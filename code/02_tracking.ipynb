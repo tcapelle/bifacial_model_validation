{
 "cells": [
  {
   "cell_type": "code",
   "execution_count": 1,
   "metadata": {},
   "outputs": [],
   "source": [
    "%load_ext autoreload\n",
    "%autoreload 2"
   ]
  },
  {
   "cell_type": "markdown",
   "metadata": {},
   "source": [
    "# Tracking Example for @cdeline"
   ]
  },
  {
   "cell_type": "code",
   "execution_count": 2,
   "metadata": {},
   "outputs": [],
   "source": [
    "import pandas as pd\n",
    "import numpy as np\n",
    "import matplotlib.pyplot as plt\n",
    "\n",
    "from utils import *"
   ]
  },
  {
   "cell_type": "markdown",
   "metadata": {},
   "source": [
    "Setup some paths using pathlib"
   ]
  },
  {
   "cell_type": "code",
   "execution_count": 3,
   "metadata": {},
   "outputs": [
    {
     "data": {
      "text/plain": [
       "[PosixPath('/home/tc256760/Documents/bifacial_model_validation/data/ines_data.hdf')]"
      ]
     },
     "execution_count": 3,
     "metadata": {},
     "output_type": "execute_result"
    }
   ],
   "source": [
    "CWD = Path.cwd().parent\n",
    "PATH = CWD/'data'\n",
    "PATH.ls()"
   ]
  },
  {
   "cell_type": "code",
   "execution_count": 4,
   "metadata": {},
   "outputs": [],
   "source": [
    "data = pd.read_hdf(PATH/'ines_data.hdf'); data.head()\n",
    "day = '18 Jul 2017'\n",
    "data_small = data[day]"
   ]
  },
  {
   "cell_type": "markdown",
   "metadata": {},
   "source": [
    "## Define the PV plant\n",
    "We define the PV plant geometry"
   ]
  },
  {
   "cell_type": "code",
   "execution_count": 5,
   "metadata": {},
   "outputs": [],
   "source": [
    "from vf2d import system_def, merge_data"
   ]
  },
  {
   "cell_type": "code",
   "execution_count": 6,
   "metadata": {},
   "outputs": [],
   "source": [
    "gps_data = {'Name':'Chambery', 'Latitude': 45.637001, 'Longitude': 5.881, 'Elevation': 235.0, 'TZ':+2}"
   ]
  },
  {
   "cell_type": "code",
   "execution_count": 7,
   "metadata": {},
   "outputs": [],
   "source": [
    "pvarray_parameters = system_def(n_pvrows=2,\n",
    "                                tracking=True,\n",
    "                                n_modules_vertically=2, #number of modules stacked together in each structure. Int.\n",
    "                                module_size = (1.01, 1.69), #(width, height) this is a portrait module.\n",
    "                                h_ground = 2.5, #height from the ground for the lower module, in meters.\n",
    "                                albedo = 0.4, #Albedo from ground, can be constant or a value per timestep. Between 0 and 1.\n",
    "                                rtr_spacing = 9.4, #row2row distance, in meters.\n",
    "                                frontSurface = \"glass\", #glass or ARglass\n",
    "                                backSurface = \"glass\",\n",
    "                                back_measure_points = 10,\n",
    "                                row_type='first', #where to recover the data, 'first', 'interior' or 'last'\n",
    "                                gps_data=gps_data, # a dict containing 'Name', 'Latitute', 'Longitude', 'Elevation', 'TZ'\n",
    "                               )"
   ]
  },
  {
   "cell_type": "code",
   "execution_count": 8,
   "metadata": {},
   "outputs": [
    {
     "data": {
      "text/plain": [
       "{'pvfactors': {'n_pvrows': 2,\n",
       "  'pvrow_height': 2.5,\n",
       "  'pvrow_width': 3.38,\n",
       "  'tracking': True,\n",
       "  'axis_azimuth': 90,\n",
       "  'surface_tilt': 30,\n",
       "  'surface_azimuth': 180,\n",
       "  'albedo': 0.4,\n",
       "  'gcr': 0.35957446808510635,\n",
       "  'rho_front_pvrow': 0.04336154977936508,\n",
       "  'rho_back_pvrow': 0.04336154977936508,\n",
       "  'cut': {0: {'front': 1, 'back': 10}, 1: {'front': 1, 'back': 1}}},\n",
       " 'bifacialvf': {'beta': 30,\n",
       "  'sazm': 180,\n",
       "  'C': 0.7396449704142012,\n",
       "  'rtr': 2.7810650887573964,\n",
       "  'rowType': 'first',\n",
       "  'transFactor': 0.013,\n",
       "  'cellRows': 10,\n",
       "  'PVfrontSurface': 'glass',\n",
       "  'PVbackSurface': 'glass',\n",
       "  'albedo': 0.4,\n",
       "  'tracking': True,\n",
       "  'backtrack': False},\n",
       " 'gps_data': {'Name': 'Chambery',\n",
       "  'Latitude': 45.637001,\n",
       "  'Longitude': 5.881,\n",
       "  'Elevation': 235.0,\n",
       "  'TZ': 2}}"
      ]
     },
     "execution_count": 8,
     "metadata": {},
     "output_type": "execute_result"
    }
   ],
   "source": [
    "pvarray_parameters"
   ]
  },
  {
   "cell_type": "markdown",
   "metadata": {},
   "source": [
    "## Merge Data\n",
    "We create a unified DataFrame with the data needed for the simulation"
   ]
  },
  {
   "cell_type": "code",
   "execution_count": 9,
   "metadata": {},
   "outputs": [],
   "source": [
    "merged_data = merge_data(data_small.meteo, \n",
    "                         data_small.sunpos, \n",
    "                         data_small.tracker.surface_tilt,\n",
    "                         data_small.tracker.surface_azimuth,\n",
    "                         0.4)"
   ]
  },
  {
   "cell_type": "code",
   "execution_count": 10,
   "metadata": {},
   "outputs": [
    {
     "data": {
      "text/html": [
       "<div>\n",
       "<style scoped>\n",
       "    .dataframe tbody tr th:only-of-type {\n",
       "        vertical-align: middle;\n",
       "    }\n",
       "\n",
       "    .dataframe tbody tr th {\n",
       "        vertical-align: top;\n",
       "    }\n",
       "\n",
       "    .dataframe thead th {\n",
       "        text-align: right;\n",
       "    }\n",
       "</style>\n",
       "<table border=\"1\" class=\"dataframe\">\n",
       "  <thead>\n",
       "    <tr style=\"text-align: right;\">\n",
       "      <th></th>\n",
       "      <th>ghi</th>\n",
       "      <th>dni</th>\n",
       "      <th>dhi</th>\n",
       "      <th>zenith</th>\n",
       "      <th>azimuth</th>\n",
       "      <th>elevation</th>\n",
       "      <th>surface_tilt</th>\n",
       "      <th>surface_azimuth</th>\n",
       "      <th>albedo</th>\n",
       "    </tr>\n",
       "    <tr>\n",
       "      <th>date</th>\n",
       "      <th></th>\n",
       "      <th></th>\n",
       "      <th></th>\n",
       "      <th></th>\n",
       "      <th></th>\n",
       "      <th></th>\n",
       "      <th></th>\n",
       "      <th></th>\n",
       "      <th></th>\n",
       "    </tr>\n",
       "  </thead>\n",
       "  <tbody>\n",
       "    <tr>\n",
       "      <td>2017-07-18 04:10:00</td>\n",
       "      <td>0.00</td>\n",
       "      <td>0.0</td>\n",
       "      <td>0.00</td>\n",
       "      <td>91.000000</td>\n",
       "      <td>59.572309</td>\n",
       "      <td>0.328591</td>\n",
       "      <td>89.614058</td>\n",
       "      <td>90.0</td>\n",
       "      <td>0.4</td>\n",
       "    </tr>\n",
       "    <tr>\n",
       "      <td>2017-07-18 04:15:00</td>\n",
       "      <td>0.00</td>\n",
       "      <td>0.0</td>\n",
       "      <td>0.00</td>\n",
       "      <td>91.000000</td>\n",
       "      <td>60.460925</td>\n",
       "      <td>1.085116</td>\n",
       "      <td>88.748916</td>\n",
       "      <td>90.0</td>\n",
       "      <td>0.4</td>\n",
       "    </tr>\n",
       "    <tr>\n",
       "      <td>2017-07-18 04:20:00</td>\n",
       "      <td>10.73</td>\n",
       "      <td>0.0</td>\n",
       "      <td>10.73</td>\n",
       "      <td>88.151694</td>\n",
       "      <td>61.344053</td>\n",
       "      <td>1.848306</td>\n",
       "      <td>87.890731</td>\n",
       "      <td>90.0</td>\n",
       "      <td>0.4</td>\n",
       "    </tr>\n",
       "    <tr>\n",
       "      <td>2017-07-18 04:25:00</td>\n",
       "      <td>13.31</td>\n",
       "      <td>0.0</td>\n",
       "      <td>13.32</td>\n",
       "      <td>87.382059</td>\n",
       "      <td>62.221953</td>\n",
       "      <td>2.617941</td>\n",
       "      <td>87.038976</td>\n",
       "      <td>90.0</td>\n",
       "      <td>0.4</td>\n",
       "    </tr>\n",
       "    <tr>\n",
       "      <td>2017-07-18 04:30:00</td>\n",
       "      <td>16.51</td>\n",
       "      <td>0.0</td>\n",
       "      <td>16.51</td>\n",
       "      <td>86.606199</td>\n",
       "      <td>63.094892</td>\n",
       "      <td>3.393801</td>\n",
       "      <td>86.193131</td>\n",
       "      <td>90.0</td>\n",
       "      <td>0.4</td>\n",
       "    </tr>\n",
       "  </tbody>\n",
       "</table>\n",
       "</div>"
      ],
      "text/plain": [
       "                       ghi  dni    dhi     zenith    azimuth  elevation  \\\n",
       "date                                                                      \n",
       "2017-07-18 04:10:00   0.00  0.0   0.00  91.000000  59.572309   0.328591   \n",
       "2017-07-18 04:15:00   0.00  0.0   0.00  91.000000  60.460925   1.085116   \n",
       "2017-07-18 04:20:00  10.73  0.0  10.73  88.151694  61.344053   1.848306   \n",
       "2017-07-18 04:25:00  13.31  0.0  13.32  87.382059  62.221953   2.617941   \n",
       "2017-07-18 04:30:00  16.51  0.0  16.51  86.606199  63.094892   3.393801   \n",
       "\n",
       "                     surface_tilt  surface_azimuth  albedo  \n",
       "date                                                        \n",
       "2017-07-18 04:10:00     89.614058             90.0     0.4  \n",
       "2017-07-18 04:15:00     88.748916             90.0     0.4  \n",
       "2017-07-18 04:20:00     87.890731             90.0     0.4  \n",
       "2017-07-18 04:25:00     87.038976             90.0     0.4  \n",
       "2017-07-18 04:30:00     86.193131             90.0     0.4  "
      ]
     },
     "execution_count": 10,
     "metadata": {},
     "output_type": "execute_result"
    }
   ],
   "source": [
    "merged_data.head()"
   ]
  },
  {
   "cell_type": "markdown",
   "metadata": {},
   "source": [
    "## PVfactors"
   ]
  },
  {
   "cell_type": "code",
   "execution_count": 11,
   "metadata": {},
   "outputs": [],
   "source": [
    "from mypvfactors import *"
   ]
  },
  {
   "cell_type": "markdown",
   "metadata": {},
   "source": [
    "This is just a wrapper around the `run_parallel_engine` and the `run_full_mode` functions from pvfactors. Don't know why with pvfactors 1.2 the parallel mode is so slow."
   ]
  },
  {
   "cell_type": "code",
   "execution_count": 12,
   "metadata": {},
   "outputs": [
    {
     "name": "stderr",
     "output_type": "stream",
     "text": [
      "100%|██████████| 46/46 [00:01<00:00, 34.33it/s]\n",
      "100%|██████████| 45/45 [00:01<00:00, 29.04it/s]\n",
      "100%|██████████| 45/45 [00:01<00:00, 24.06it/s]\n",
      "100%|██████████| 45/45 [00:01<00:00, 22.51it/s]\n",
      "INFO:pvfactors.run:Parallel calculation elapsed time: 2.0680155754089355 sec\n"
     ]
    }
   ],
   "source": [
    "pvfactors_out = pvfactors_engine_run(merged_data, pvarray_parameters['pvfactors'], parallel=4)"
   ]
  },
  {
   "cell_type": "code",
   "execution_count": 13,
   "metadata": {},
   "outputs": [
    {
     "data": {
      "text/html": [
       "<div>\n",
       "<style scoped>\n",
       "    .dataframe tbody tr th:only-of-type {\n",
       "        vertical-align: middle;\n",
       "    }\n",
       "\n",
       "    .dataframe tbody tr th {\n",
       "        vertical-align: top;\n",
       "    }\n",
       "\n",
       "    .dataframe thead th {\n",
       "        text-align: right;\n",
       "    }\n",
       "</style>\n",
       "<table border=\"1\" class=\"dataframe\">\n",
       "  <thead>\n",
       "    <tr style=\"text-align: right;\">\n",
       "      <th></th>\n",
       "      <th>qinc_front</th>\n",
       "      <th>qinc_back_mean</th>\n",
       "      <th>qinc_back_0</th>\n",
       "      <th>qinc_back_1</th>\n",
       "      <th>qinc_back_2</th>\n",
       "      <th>qinc_back_3</th>\n",
       "      <th>qinc_back_4</th>\n",
       "      <th>qinc_back_5</th>\n",
       "      <th>qinc_back_6</th>\n",
       "      <th>qinc_back_7</th>\n",
       "      <th>qinc_back_8</th>\n",
       "      <th>qinc_back_9</th>\n",
       "    </tr>\n",
       "    <tr>\n",
       "      <th>date</th>\n",
       "      <th></th>\n",
       "      <th></th>\n",
       "      <th></th>\n",
       "      <th></th>\n",
       "      <th></th>\n",
       "      <th></th>\n",
       "      <th></th>\n",
       "      <th></th>\n",
       "      <th></th>\n",
       "      <th></th>\n",
       "      <th></th>\n",
       "      <th></th>\n",
       "    </tr>\n",
       "  </thead>\n",
       "  <tbody>\n",
       "    <tr>\n",
       "      <td>2017-07-18 04:10:00</td>\n",
       "      <td>0.000000</td>\n",
       "      <td>0.000000</td>\n",
       "      <td>0.000000</td>\n",
       "      <td>0.000000</td>\n",
       "      <td>0.000000</td>\n",
       "      <td>0.000000</td>\n",
       "      <td>0.000000</td>\n",
       "      <td>0.000000</td>\n",
       "      <td>0.000000</td>\n",
       "      <td>0.000000</td>\n",
       "      <td>0.000000</td>\n",
       "      <td>0.000000</td>\n",
       "    </tr>\n",
       "    <tr>\n",
       "      <td>2017-07-18 04:15:00</td>\n",
       "      <td>0.000000</td>\n",
       "      <td>0.000000</td>\n",
       "      <td>0.000000</td>\n",
       "      <td>0.000000</td>\n",
       "      <td>0.000000</td>\n",
       "      <td>0.000000</td>\n",
       "      <td>0.000000</td>\n",
       "      <td>0.000000</td>\n",
       "      <td>0.000000</td>\n",
       "      <td>0.000000</td>\n",
       "      <td>0.000000</td>\n",
       "      <td>0.000000</td>\n",
       "    </tr>\n",
       "    <tr>\n",
       "      <td>2017-07-18 04:20:00</td>\n",
       "      <td>5.910577</td>\n",
       "      <td>7.433717</td>\n",
       "      <td>7.483248</td>\n",
       "      <td>7.472240</td>\n",
       "      <td>7.461231</td>\n",
       "      <td>7.450223</td>\n",
       "      <td>7.439215</td>\n",
       "      <td>7.428209</td>\n",
       "      <td>7.417204</td>\n",
       "      <td>7.406201</td>\n",
       "      <td>7.395201</td>\n",
       "      <td>7.384203</td>\n",
       "    </tr>\n",
       "    <tr>\n",
       "      <td>2017-07-18 04:25:00</td>\n",
       "      <td>7.426101</td>\n",
       "      <td>9.167267</td>\n",
       "      <td>9.228740</td>\n",
       "      <td>9.215072</td>\n",
       "      <td>9.201405</td>\n",
       "      <td>9.187741</td>\n",
       "      <td>9.174080</td>\n",
       "      <td>9.160423</td>\n",
       "      <td>9.146769</td>\n",
       "      <td>9.133120</td>\n",
       "      <td>9.119476</td>\n",
       "      <td>9.105837</td>\n",
       "    </tr>\n",
       "    <tr>\n",
       "      <td>2017-07-18 04:30:00</td>\n",
       "      <td>9.362727</td>\n",
       "      <td>11.285068</td>\n",
       "      <td>11.361169</td>\n",
       "      <td>11.344242</td>\n",
       "      <td>11.327319</td>\n",
       "      <td>11.310402</td>\n",
       "      <td>11.293491</td>\n",
       "      <td>11.276587</td>\n",
       "      <td>11.259691</td>\n",
       "      <td>11.242802</td>\n",
       "      <td>11.225922</td>\n",
       "      <td>11.209051</td>\n",
       "    </tr>\n",
       "  </tbody>\n",
       "</table>\n",
       "</div>"
      ],
      "text/plain": [
       "                     qinc_front  qinc_back_mean  qinc_back_0  qinc_back_1  \\\n",
       "date                                                                        \n",
       "2017-07-18 04:10:00    0.000000        0.000000     0.000000     0.000000   \n",
       "2017-07-18 04:15:00    0.000000        0.000000     0.000000     0.000000   \n",
       "2017-07-18 04:20:00    5.910577        7.433717     7.483248     7.472240   \n",
       "2017-07-18 04:25:00    7.426101        9.167267     9.228740     9.215072   \n",
       "2017-07-18 04:30:00    9.362727       11.285068    11.361169    11.344242   \n",
       "\n",
       "                     qinc_back_2  qinc_back_3  qinc_back_4  qinc_back_5  \\\n",
       "date                                                                      \n",
       "2017-07-18 04:10:00     0.000000     0.000000     0.000000     0.000000   \n",
       "2017-07-18 04:15:00     0.000000     0.000000     0.000000     0.000000   \n",
       "2017-07-18 04:20:00     7.461231     7.450223     7.439215     7.428209   \n",
       "2017-07-18 04:25:00     9.201405     9.187741     9.174080     9.160423   \n",
       "2017-07-18 04:30:00    11.327319    11.310402    11.293491    11.276587   \n",
       "\n",
       "                     qinc_back_6  qinc_back_7  qinc_back_8  qinc_back_9  \n",
       "date                                                                     \n",
       "2017-07-18 04:10:00     0.000000     0.000000     0.000000     0.000000  \n",
       "2017-07-18 04:15:00     0.000000     0.000000     0.000000     0.000000  \n",
       "2017-07-18 04:20:00     7.417204     7.406201     7.395201     7.384203  \n",
       "2017-07-18 04:25:00     9.146769     9.133120     9.119476     9.105837  \n",
       "2017-07-18 04:30:00    11.259691    11.242802    11.225922    11.209051  "
      ]
     },
     "execution_count": 13,
     "metadata": {},
     "output_type": "execute_result"
    }
   ],
   "source": [
    "pvfactors_out.head()"
   ]
  },
  {
   "cell_type": "markdown",
   "metadata": {},
   "source": [
    "## BifacialVF"
   ]
  },
  {
   "cell_type": "code",
   "execution_count": 14,
   "metadata": {},
   "outputs": [],
   "source": [
    "from mybifacialvf import *"
   ]
  },
  {
   "cell_type": "markdown",
   "metadata": {},
   "source": [
    "The `bifacialvf_engine_run` method is just a wrapper around the `simulate` method. It has a nice formater that will transform the output DataFrame in the same format as the one produced by pvfactors to be diectly comparable."
   ]
  },
  {
   "cell_type": "code",
   "execution_count": 15,
   "metadata": {},
   "outputs": [
    {
     "name": "stderr",
     "output_type": "stream",
     "text": [
      "  0%|          | 0/181 [00:00<?, ?it/s]/home/tc256760/anaconda3/envs/bifacial_model_validation/lib/python3.7/site-packages/bifacialvf/vf.py:640: RuntimeWarning: divide by zero encountered in double_scalars\n",
      "  projectedX1 = PcellX - np.float64(PcellY) / math.tan(startElvDown);      # Projection of ElvDown to ground in -x direction\n",
      "  6%|▌         | 10/181 [00:00<00:01, 98.81it/s]"
     ]
    },
    {
     "name": "stdout",
     "output_type": "stream",
     "text": [
      " \n",
      "********* \n",
      "Running Simulation for TMY3:  Chambery\n",
      "Location:   Chambery\n",
      "Lat:  45.637001  Long:  5.881  Tz  2\n",
      "Parameters: beta:  0   Sazm:  180   Height:  0.7396449704142012   rtr separation:  2.7810650887573964   Row type:  first   Albedo:  0.4\n",
      "Saving into output.csv\n",
      " \n",
      " \n",
      " ***** IMPORTANT --> THIS SIMULATION Has Tracking Activated\n",
      "Backtracking Option is set to:  False\n"
     ]
    },
    {
     "name": "stderr",
     "output_type": "stream",
     "text": [
      "100%|██████████| 181/181 [00:01<00:00, 96.05it/s]"
     ]
    },
    {
     "name": "stdout",
     "output_type": "stream",
     "text": [
      "Finished\n"
     ]
    },
    {
     "name": "stderr",
     "output_type": "stream",
     "text": [
      "\n"
     ]
    }
   ],
   "source": [
    "bifacialvf_out = bifacialvf_engine_run(merged_data,  pvarray_parameters['bifacialvf'], gps_data, max_angle=90)"
   ]
  },
  {
   "cell_type": "code",
   "execution_count": 16,
   "metadata": {},
   "outputs": [
    {
     "data": {
      "text/html": [
       "<div>\n",
       "<style scoped>\n",
       "    .dataframe tbody tr th:only-of-type {\n",
       "        vertical-align: middle;\n",
       "    }\n",
       "\n",
       "    .dataframe tbody tr th {\n",
       "        vertical-align: top;\n",
       "    }\n",
       "\n",
       "    .dataframe thead th {\n",
       "        text-align: right;\n",
       "    }\n",
       "</style>\n",
       "<table border=\"1\" class=\"dataframe\">\n",
       "  <thead>\n",
       "    <tr style=\"text-align: right;\">\n",
       "      <th></th>\n",
       "      <th>qinc_front</th>\n",
       "      <th>qinc_back_mean</th>\n",
       "      <th>qinc_back_0</th>\n",
       "      <th>qinc_back_1</th>\n",
       "      <th>qinc_back_2</th>\n",
       "      <th>qinc_back_3</th>\n",
       "      <th>qinc_back_4</th>\n",
       "      <th>qinc_back_5</th>\n",
       "      <th>qinc_back_6</th>\n",
       "      <th>qinc_back_7</th>\n",
       "      <th>qinc_back_8</th>\n",
       "      <th>qinc_back_9</th>\n",
       "    </tr>\n",
       "    <tr>\n",
       "      <th>date</th>\n",
       "      <th></th>\n",
       "      <th></th>\n",
       "      <th></th>\n",
       "      <th></th>\n",
       "      <th></th>\n",
       "      <th></th>\n",
       "      <th></th>\n",
       "      <th></th>\n",
       "      <th></th>\n",
       "      <th></th>\n",
       "      <th></th>\n",
       "      <th></th>\n",
       "    </tr>\n",
       "  </thead>\n",
       "  <tbody>\n",
       "    <tr>\n",
       "      <td>2017-07-18 04:20:00</td>\n",
       "      <td>7.211362</td>\n",
       "      <td>5.329768</td>\n",
       "      <td>5.926075</td>\n",
       "      <td>5.791286</td>\n",
       "      <td>5.657167</td>\n",
       "      <td>5.523821</td>\n",
       "      <td>5.391342</td>\n",
       "      <td>5.259751</td>\n",
       "      <td>5.128703</td>\n",
       "      <td>4.997224</td>\n",
       "      <td>4.871040</td>\n",
       "      <td>4.751275</td>\n",
       "    </tr>\n",
       "    <tr>\n",
       "      <td>2017-07-18 04:25:00</td>\n",
       "      <td>7.947250</td>\n",
       "      <td>6.373815</td>\n",
       "      <td>6.373969</td>\n",
       "      <td>6.563377</td>\n",
       "      <td>6.752305</td>\n",
       "      <td>6.763937</td>\n",
       "      <td>6.599689</td>\n",
       "      <td>6.436576</td>\n",
       "      <td>6.274195</td>\n",
       "      <td>6.111470</td>\n",
       "      <td>5.955210</td>\n",
       "      <td>5.907420</td>\n",
       "    </tr>\n",
       "    <tr>\n",
       "      <td>2017-07-18 04:30:00</td>\n",
       "      <td>9.948410</td>\n",
       "      <td>7.804025</td>\n",
       "      <td>7.809775</td>\n",
       "      <td>8.039927</td>\n",
       "      <td>8.238935</td>\n",
       "      <td>8.250803</td>\n",
       "      <td>8.047345</td>\n",
       "      <td>7.876175</td>\n",
       "      <td>7.675292</td>\n",
       "      <td>7.474216</td>\n",
       "      <td>7.405548</td>\n",
       "      <td>7.222232</td>\n",
       "    </tr>\n",
       "    <tr>\n",
       "      <td>2017-07-18 04:35:00</td>\n",
       "      <td>11.990029</td>\n",
       "      <td>9.194295</td>\n",
       "      <td>9.177013</td>\n",
       "      <td>9.447127</td>\n",
       "      <td>9.716040</td>\n",
       "      <td>9.728001</td>\n",
       "      <td>9.485531</td>\n",
       "      <td>9.244793</td>\n",
       "      <td>9.005228</td>\n",
       "      <td>8.915169</td>\n",
       "      <td>8.720577</td>\n",
       "      <td>8.503467</td>\n",
       "    </tr>\n",
       "    <tr>\n",
       "      <td>2017-07-18 04:40:00</td>\n",
       "      <td>13.868856</td>\n",
       "      <td>10.444367</td>\n",
       "      <td>10.385352</td>\n",
       "      <td>10.692262</td>\n",
       "      <td>10.997489</td>\n",
       "      <td>11.009920</td>\n",
       "      <td>10.908970</td>\n",
       "      <td>10.631951</td>\n",
       "      <td>10.356167</td>\n",
       "      <td>10.080451</td>\n",
       "      <td>9.814589</td>\n",
       "      <td>9.566522</td>\n",
       "    </tr>\n",
       "  </tbody>\n",
       "</table>\n",
       "</div>"
      ],
      "text/plain": [
       "                     qinc_front  qinc_back_mean  qinc_back_0  qinc_back_1  \\\n",
       "date                                                                        \n",
       "2017-07-18 04:20:00    7.211362        5.329768     5.926075     5.791286   \n",
       "2017-07-18 04:25:00    7.947250        6.373815     6.373969     6.563377   \n",
       "2017-07-18 04:30:00    9.948410        7.804025     7.809775     8.039927   \n",
       "2017-07-18 04:35:00   11.990029        9.194295     9.177013     9.447127   \n",
       "2017-07-18 04:40:00   13.868856       10.444367    10.385352    10.692262   \n",
       "\n",
       "                     qinc_back_2  qinc_back_3  qinc_back_4  qinc_back_5  \\\n",
       "date                                                                      \n",
       "2017-07-18 04:20:00     5.657167     5.523821     5.391342     5.259751   \n",
       "2017-07-18 04:25:00     6.752305     6.763937     6.599689     6.436576   \n",
       "2017-07-18 04:30:00     8.238935     8.250803     8.047345     7.876175   \n",
       "2017-07-18 04:35:00     9.716040     9.728001     9.485531     9.244793   \n",
       "2017-07-18 04:40:00    10.997489    11.009920    10.908970    10.631951   \n",
       "\n",
       "                     qinc_back_6  qinc_back_7  qinc_back_8  qinc_back_9  \n",
       "date                                                                     \n",
       "2017-07-18 04:20:00     5.128703     4.997224     4.871040     4.751275  \n",
       "2017-07-18 04:25:00     6.274195     6.111470     5.955210     5.907420  \n",
       "2017-07-18 04:30:00     7.675292     7.474216     7.405548     7.222232  \n",
       "2017-07-18 04:35:00     9.005228     8.915169     8.720577     8.503467  \n",
       "2017-07-18 04:40:00    10.356167    10.080451     9.814589     9.566522  "
      ]
     },
     "execution_count": 16,
     "metadata": {},
     "output_type": "execute_result"
    }
   ],
   "source": [
    "bifacialvf_out.head()"
   ]
  },
  {
   "cell_type": "markdown",
   "metadata": {},
   "source": [
    "## Comparison of pvfactors and BifacialVF\n",
    "As we can see, for the same measurement point (the 3rd point from the top) the outputs of both models are very different."
   ]
  },
  {
   "cell_type": "code",
   "execution_count": 17,
   "metadata": {},
   "outputs": [
    {
     "data": {
      "text/html": [
       "<div>\n",
       "<style scoped>\n",
       "    .dataframe tbody tr th:only-of-type {\n",
       "        vertical-align: middle;\n",
       "    }\n",
       "\n",
       "    .dataframe tbody tr th {\n",
       "        vertical-align: top;\n",
       "    }\n",
       "\n",
       "    .dataframe thead th {\n",
       "        text-align: right;\n",
       "    }\n",
       "</style>\n",
       "<table border=\"1\" class=\"dataframe\">\n",
       "  <thead>\n",
       "    <tr style=\"text-align: right;\">\n",
       "      <th></th>\n",
       "      <th>qinc_front</th>\n",
       "      <th>qinc_back_mean</th>\n",
       "      <th>qinc_back_0</th>\n",
       "      <th>qinc_back_1</th>\n",
       "      <th>qinc_back_2</th>\n",
       "      <th>qinc_back_3</th>\n",
       "      <th>qinc_back_4</th>\n",
       "      <th>qinc_back_5</th>\n",
       "      <th>qinc_back_6</th>\n",
       "      <th>qinc_back_7</th>\n",
       "      <th>qinc_back_8</th>\n",
       "      <th>qinc_back_9</th>\n",
       "    </tr>\n",
       "    <tr>\n",
       "      <th>date</th>\n",
       "      <th></th>\n",
       "      <th></th>\n",
       "      <th></th>\n",
       "      <th></th>\n",
       "      <th></th>\n",
       "      <th></th>\n",
       "      <th></th>\n",
       "      <th></th>\n",
       "      <th></th>\n",
       "      <th></th>\n",
       "      <th></th>\n",
       "      <th></th>\n",
       "    </tr>\n",
       "  </thead>\n",
       "  <tbody>\n",
       "    <tr>\n",
       "      <td>2017-07-18 04:10:00</td>\n",
       "      <td>0.000000</td>\n",
       "      <td>0.000000</td>\n",
       "      <td>0.000000</td>\n",
       "      <td>0.000000</td>\n",
       "      <td>0.000000</td>\n",
       "      <td>0.000000</td>\n",
       "      <td>0.000000</td>\n",
       "      <td>0.000000</td>\n",
       "      <td>0.000000</td>\n",
       "      <td>0.000000</td>\n",
       "      <td>0.000000</td>\n",
       "      <td>0.000000</td>\n",
       "    </tr>\n",
       "    <tr>\n",
       "      <td>2017-07-18 04:15:00</td>\n",
       "      <td>0.000000</td>\n",
       "      <td>0.000000</td>\n",
       "      <td>0.000000</td>\n",
       "      <td>0.000000</td>\n",
       "      <td>0.000000</td>\n",
       "      <td>0.000000</td>\n",
       "      <td>0.000000</td>\n",
       "      <td>0.000000</td>\n",
       "      <td>0.000000</td>\n",
       "      <td>0.000000</td>\n",
       "      <td>0.000000</td>\n",
       "      <td>0.000000</td>\n",
       "    </tr>\n",
       "    <tr>\n",
       "      <td>2017-07-18 04:20:00</td>\n",
       "      <td>5.910577</td>\n",
       "      <td>7.433717</td>\n",
       "      <td>7.483248</td>\n",
       "      <td>7.472240</td>\n",
       "      <td>7.461231</td>\n",
       "      <td>7.450223</td>\n",
       "      <td>7.439215</td>\n",
       "      <td>7.428209</td>\n",
       "      <td>7.417204</td>\n",
       "      <td>7.406201</td>\n",
       "      <td>7.395201</td>\n",
       "      <td>7.384203</td>\n",
       "    </tr>\n",
       "    <tr>\n",
       "      <td>2017-07-18 04:25:00</td>\n",
       "      <td>7.426101</td>\n",
       "      <td>9.167267</td>\n",
       "      <td>9.228740</td>\n",
       "      <td>9.215072</td>\n",
       "      <td>9.201405</td>\n",
       "      <td>9.187741</td>\n",
       "      <td>9.174080</td>\n",
       "      <td>9.160423</td>\n",
       "      <td>9.146769</td>\n",
       "      <td>9.133120</td>\n",
       "      <td>9.119476</td>\n",
       "      <td>9.105837</td>\n",
       "    </tr>\n",
       "    <tr>\n",
       "      <td>2017-07-18 04:30:00</td>\n",
       "      <td>9.362727</td>\n",
       "      <td>11.285068</td>\n",
       "      <td>11.361169</td>\n",
       "      <td>11.344242</td>\n",
       "      <td>11.327319</td>\n",
       "      <td>11.310402</td>\n",
       "      <td>11.293491</td>\n",
       "      <td>11.276587</td>\n",
       "      <td>11.259691</td>\n",
       "      <td>11.242802</td>\n",
       "      <td>11.225922</td>\n",
       "      <td>11.209051</td>\n",
       "    </tr>\n",
       "  </tbody>\n",
       "</table>\n",
       "</div>"
      ],
      "text/plain": [
       "                     qinc_front  qinc_back_mean  qinc_back_0  qinc_back_1  \\\n",
       "date                                                                        \n",
       "2017-07-18 04:10:00    0.000000        0.000000     0.000000     0.000000   \n",
       "2017-07-18 04:15:00    0.000000        0.000000     0.000000     0.000000   \n",
       "2017-07-18 04:20:00    5.910577        7.433717     7.483248     7.472240   \n",
       "2017-07-18 04:25:00    7.426101        9.167267     9.228740     9.215072   \n",
       "2017-07-18 04:30:00    9.362727       11.285068    11.361169    11.344242   \n",
       "\n",
       "                     qinc_back_2  qinc_back_3  qinc_back_4  qinc_back_5  \\\n",
       "date                                                                      \n",
       "2017-07-18 04:10:00     0.000000     0.000000     0.000000     0.000000   \n",
       "2017-07-18 04:15:00     0.000000     0.000000     0.000000     0.000000   \n",
       "2017-07-18 04:20:00     7.461231     7.450223     7.439215     7.428209   \n",
       "2017-07-18 04:25:00     9.201405     9.187741     9.174080     9.160423   \n",
       "2017-07-18 04:30:00    11.327319    11.310402    11.293491    11.276587   \n",
       "\n",
       "                     qinc_back_6  qinc_back_7  qinc_back_8  qinc_back_9  \n",
       "date                                                                     \n",
       "2017-07-18 04:10:00     0.000000     0.000000     0.000000     0.000000  \n",
       "2017-07-18 04:15:00     0.000000     0.000000     0.000000     0.000000  \n",
       "2017-07-18 04:20:00     7.417204     7.406201     7.395201     7.384203  \n",
       "2017-07-18 04:25:00     9.146769     9.133120     9.119476     9.105837  \n",
       "2017-07-18 04:30:00    11.259691    11.242802    11.225922    11.209051  "
      ]
     },
     "execution_count": 17,
     "metadata": {},
     "output_type": "execute_result"
    }
   ],
   "source": [
    "pvfactors_out.head()"
   ]
  },
  {
   "cell_type": "markdown",
   "metadata": {},
   "source": [
    "## Sanity check of tracking strategies, external computed tracking with internal bifacialvf tracking"
   ]
  },
  {
   "cell_type": "code",
   "execution_count": 18,
   "metadata": {},
   "outputs": [],
   "source": [
    "output_file_bvf = pd.read_csv('output.csv', header=2, index_col='date', parse_dates=True)"
   ]
  },
  {
   "cell_type": "code",
   "execution_count": 19,
   "metadata": {},
   "outputs": [
    {
     "data": {
      "text/plain": [
       "Index(['DNI', 'DHI', 'decHRs', 'ghi', 'inc', 'zen', 'azm', 'pvFrontSH',\n",
       "       'aveFrontGroundGHI', 'GTIfrontBroadBand', 'pvBackSH',\n",
       "       'aveBackGroundGHI', 'GTIbackBroadBand', 'maxShadow', 'Tamb', 'Vwind',\n",
       "       'No_1_RowFrontGTI', 'No_2_RowFrontGTI', 'No_3_RowFrontGTI',\n",
       "       'No_4_RowFrontGTI', 'No_5_RowFrontGTI', 'No_6_RowFrontGTI',\n",
       "       'No_7_RowFrontGTI', 'No_8_RowFrontGTI', 'No_9_RowFrontGTI',\n",
       "       'No_10_RowFrontGTI', 'No_1_RowBackGTI', 'No_2_RowBackGTI',\n",
       "       'No_3_RowBackGTI', 'No_4_RowBackGTI', 'No_5_RowBackGTI',\n",
       "       'No_6_RowBackGTI', 'No_7_RowBackGTI', 'No_8_RowBackGTI',\n",
       "       'No_9_RowBackGTI', 'No_10_RowBackGTI', 'beta', 'sazm', 'height', 'D'],\n",
       "      dtype='object')"
      ]
     },
     "execution_count": 19,
     "metadata": {},
     "output_type": "execute_result"
    }
   ],
   "source": [
    "output_file_bvf.columns"
   ]
  },
  {
   "cell_type": "markdown",
   "metadata": {},
   "source": [
    "## Dont know where this D and hegiht come from?"
   ]
  },
  {
   "cell_type": "code",
   "execution_count": 20,
   "metadata": {},
   "outputs": [
    {
     "data": {
      "text/plain": [
       "<matplotlib.legend.Legend at 0x7f2f252a8dd8>"
      ]
     },
     "execution_count": 20,
     "metadata": {},
     "output_type": "execute_result"
    },
    {
     "data": {
      "image/png": "[encoded data removed]",
      "text/plain": [
       "<Figure size 432x288 with 1 Axes>"
      ]
     },
     "metadata": {
      "needs_background": "light"
     },
     "output_type": "display_data"
    }
   ],
   "source": [
    "output_file_bvf.height.plot()\n",
    "output_file_bvf.D.plot()\n",
    "plt.legend()"
   ]
  },
  {
   "cell_type": "markdown",
   "metadata": {},
   "source": [
    "The angle is good"
   ]
  },
  {
   "cell_type": "code",
   "execution_count": 21,
   "metadata": {},
   "outputs": [
    {
     "data": {
      "text/plain": [
       "<matplotlib.legend.Legend at 0x7f2f250c2908>"
      ]
     },
     "execution_count": 21,
     "metadata": {},
     "output_type": "execute_result"
    },
    {
     "data": {
      "image/png": "[encoded data removed]",
      "text/plain": [
       "<Figure size 432x288 with 1 Axes>"
      ]
     },
     "metadata": {
      "needs_background": "light"
     },
     "output_type": "display_data"
    }
   ],
   "source": [
    "output_file_bvf.beta.plot()\n",
    "merged_data.surface_tilt.plot()\n",
    "plt.legend()"
   ]
  },
  {
   "cell_type": "markdown",
   "metadata": {},
   "source": [
    "## Back"
   ]
  },
  {
   "cell_type": "code",
   "execution_count": 22,
   "metadata": {},
   "outputs": [
    {
     "data": {
      "text/plain": [
       "<matplotlib.legend.Legend at 0x7f2f25026a58>"
      ]
     },
     "execution_count": 22,
     "metadata": {},
     "output_type": "execute_result"
    },
    {
     "data": {
      "image/png": "[encoded data removed]",
      "text/plain": [
       "<Figure size 1080x360 with 1 Axes>"
      ]
     },
     "metadata": {
      "needs_background": "light"
     },
     "output_type": "display_data"
    }
   ],
   "source": [
    "pvfactors_out[day].qinc_back_mean.plot(figsize=(15,5))\n",
    "bifacialvf_out[day].qinc_back_mean.plot()\n",
    "plt.legend(['pvfactors', 'bifacialvf'])"
   ]
  },
  {
   "cell_type": "markdown",
   "metadata": {},
   "source": [
    "## Front"
   ]
  },
  {
   "cell_type": "code",
   "execution_count": 23,
   "metadata": {},
   "outputs": [
    {
     "data": {
      "text/plain": [
       "<matplotlib.legend.Legend at 0x7f2f2505d908>"
      ]
     },
     "execution_count": 23,
     "metadata": {},
     "output_type": "execute_result"
    },
    {
     "data": {
      "image/png": "[encoded data removed]",
      "text/plain": [
       "<Figure size 1080x360 with 1 Axes>"
      ]
     },
     "metadata": {
      "needs_background": "light"
     },
     "output_type": "display_data"
    }
   ],
   "source": [
    "pvfactors_out[day].qinc_front.plot(figsize=(15,5))\n",
    "bifacialvf_out[day].qinc_front.plot()\n",
    "plt.legend(['pvfactors', 'bifacialvf'])"
   ]
  },
  {
   "cell_type": "code",
   "execution_count": null,
   "metadata": {},
   "outputs": [],
   "source": []
  }
 ],
 "metadata": {
  "kernelspec": {
   "display_name": "Python 3",
   "language": "python",
   "name": "python3"
  },
  "language_info": {
   "codemirror_mode": {
    "name": "ipython",
    "version": 3
   },
   "file_extension": ".py",
   "mimetype": "text/x-python",
   "name": "python",
   "nbconvert_exporter": "python",
   "pygments_lexer": "ipython3",
   "version": "3.7.3"
  }
 },
 "nbformat": 4,
 "nbformat_minor": 4
}
