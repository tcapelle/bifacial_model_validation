{
 "cells": [
  {
   "cell_type": "code",
   "execution_count": null,
   "metadata": {},
   "outputs": [],
   "source": [
    "%load_ext autoreload\n",
    "%autoreload 2"
   ]
  },
  {
   "cell_type": "markdown",
   "metadata": {},
   "source": [
    "# 2D Viewfactor Modelling tool\n",
    "This notebook aims to create a unified 2D modelling tool for pvarrays. It can use as backend Sunpower's [pvfactors](https://github.com/SunPower/pvfactors) or NREL's [bifacialVF](https://github.com/NREL/bifacialvf). "
   ]
  },
  {
   "cell_type": "code",
   "execution_count": 2,
   "metadata": {},
   "outputs": [],
   "source": [
    "import pandas as pd\n",
    "import numpy as np\n",
    "import matplotlib.pyplot as plt\n",
    "\n",
    "from utils import *"
   ]
  },
  {
   "cell_type": "markdown",
   "metadata": {},
   "source": [
    "Setup some paths using pathlib"
   ]
  },
  {
   "cell_type": "code",
   "execution_count": 3,
   "metadata": {},
   "outputs": [
    {
     "data": {
      "text/plain": [
       "[PosixPath('/home/tc256760/Documents/bifacial_model_validation/data/ines_data.hdf')]"
      ]
     },
     "execution_count": 3,
     "metadata": {},
     "output_type": "execute_result"
    }
   ],
   "source": [
    "CWD = Path.cwd().parent\n",
    "PATH = CWD/'data'\n",
    "PATH.ls()"
   ]
  },
  {
   "cell_type": "code",
   "execution_count": 4,
   "metadata": {},
   "outputs": [],
   "source": [
    "data = pd.read_hdf(PATH/'ines_data.hdf'); data.head()\n",
    "day = '18 Jul 2017'\n",
    "data_small = data[day]"
   ]
  },
  {
   "cell_type": "markdown",
   "metadata": {},
   "source": [
    "## We provide input data every 5 minutes for a coerced year 2017.\n",
    "\n",
    "This is a multiindex DataFrame, that has keys: \n",
    "- `meteo`: all input meteorological data, ghi from pyrano, DNI from pyrhelio.\n",
    "- `reference_cells`: ref_A is a front facing reference cell, the others are rear facing\n",
    "- `sunpos`: the sunposition computed using PVLIB\n",
    "- `tracker`: SAT computed using PVLIB, no backtrack\n",
    "\n",
    "So one can do `data.meteo` to see the nested DataFrame "
   ]
  },
  {
   "cell_type": "code",
   "execution_count": 5,
   "metadata": {},
   "outputs": [
    {
     "data": {
      "text/html": [
       "<div>\n",
       "<style scoped>\n",
       "    .dataframe tbody tr th:only-of-type {\n",
       "        vertical-align: middle;\n",
       "    }\n",
       "\n",
       "    .dataframe tbody tr th {\n",
       "        vertical-align: top;\n",
       "    }\n",
       "\n",
       "    .dataframe thead th {\n",
       "        text-align: right;\n",
       "    }\n",
       "</style>\n",
       "<table border=\"1\" class=\"dataframe\">\n",
       "  <thead>\n",
       "    <tr style=\"text-align: right;\">\n",
       "      <th></th>\n",
       "      <th>temp_air</th>\n",
       "      <th>ghi</th>\n",
       "      <th>dni</th>\n",
       "      <th>dhi</th>\n",
       "      <th>pressure</th>\n",
       "      <th>humidity</th>\n",
       "    </tr>\n",
       "    <tr>\n",
       "      <th>date</th>\n",
       "      <th></th>\n",
       "      <th></th>\n",
       "      <th></th>\n",
       "      <th></th>\n",
       "      <th></th>\n",
       "      <th></th>\n",
       "    </tr>\n",
       "  </thead>\n",
       "  <tbody>\n",
       "    <tr>\n",
       "      <td>2017-01-01 07:25:00</td>\n",
       "      <td>-2.18</td>\n",
       "      <td>0.0</td>\n",
       "      <td>0.0</td>\n",
       "      <td>0.0</td>\n",
       "      <td>998.25</td>\n",
       "      <td>95.9</td>\n",
       "    </tr>\n",
       "    <tr>\n",
       "      <td>2017-01-01 07:30:00</td>\n",
       "      <td>-2.21</td>\n",
       "      <td>0.0</td>\n",
       "      <td>0.0</td>\n",
       "      <td>0.0</td>\n",
       "      <td>998.28</td>\n",
       "      <td>95.8</td>\n",
       "    </tr>\n",
       "    <tr>\n",
       "      <td>2017-01-01 07:35:00</td>\n",
       "      <td>-2.20</td>\n",
       "      <td>0.0</td>\n",
       "      <td>0.0</td>\n",
       "      <td>0.0</td>\n",
       "      <td>998.22</td>\n",
       "      <td>96.0</td>\n",
       "    </tr>\n",
       "    <tr>\n",
       "      <td>2017-01-01 07:40:00</td>\n",
       "      <td>-2.20</td>\n",
       "      <td>0.0</td>\n",
       "      <td>0.0</td>\n",
       "      <td>0.0</td>\n",
       "      <td>998.22</td>\n",
       "      <td>96.3</td>\n",
       "    </tr>\n",
       "    <tr>\n",
       "      <td>2017-01-01 07:45:00</td>\n",
       "      <td>-2.18</td>\n",
       "      <td>0.0</td>\n",
       "      <td>0.0</td>\n",
       "      <td>0.0</td>\n",
       "      <td>998.25</td>\n",
       "      <td>96.2</td>\n",
       "    </tr>\n",
       "  </tbody>\n",
       "</table>\n",
       "</div>"
      ],
      "text/plain": [
       "                     temp_air  ghi  dni  dhi  pressure  humidity\n",
       "date                                                            \n",
       "2017-01-01 07:25:00     -2.18  0.0  0.0  0.0    998.25      95.9\n",
       "2017-01-01 07:30:00     -2.21  0.0  0.0  0.0    998.28      95.8\n",
       "2017-01-01 07:35:00     -2.20  0.0  0.0  0.0    998.22      96.0\n",
       "2017-01-01 07:40:00     -2.20  0.0  0.0  0.0    998.22      96.3\n",
       "2017-01-01 07:45:00     -2.18  0.0  0.0  0.0    998.25      96.2"
      ]
     },
     "execution_count": 5,
     "metadata": {},
     "output_type": "execute_result"
    }
   ],
   "source": [
    "data.meteo.head()"
   ]
  },
  {
   "cell_type": "markdown",
   "metadata": {},
   "source": [
    "These are the reference cells from the array. \n",
    "- `ref_A` is facing front in the top of the array\n",
    "- `ref_A2` is facing back in between both modules, in the left of the array\n",
    "- `ref_B2` is facing back in between both modules, in the center of the array, 2D models should compare against this cell.\n",
    "- `ref_E2` is facing back in between both modules, in the rigthmost of the array"
   ]
  },
  {
   "cell_type": "code",
   "execution_count": 6,
   "metadata": {},
   "outputs": [
    {
     "data": {
      "text/html": [
       "<div>\n",
       "<style scoped>\n",
       "    .dataframe tbody tr th:only-of-type {\n",
       "        vertical-align: middle;\n",
       "    }\n",
       "\n",
       "    .dataframe tbody tr th {\n",
       "        vertical-align: top;\n",
       "    }\n",
       "\n",
       "    .dataframe thead th {\n",
       "        text-align: right;\n",
       "    }\n",
       "</style>\n",
       "<table border=\"1\" class=\"dataframe\">\n",
       "  <thead>\n",
       "    <tr style=\"text-align: right;\">\n",
       "      <th></th>\n",
       "      <th>ref_A</th>\n",
       "      <th>ref_A2</th>\n",
       "      <th>ref_B2</th>\n",
       "      <th>ref_E2</th>\n",
       "    </tr>\n",
       "    <tr>\n",
       "      <th>date</th>\n",
       "      <th></th>\n",
       "      <th></th>\n",
       "      <th></th>\n",
       "      <th></th>\n",
       "    </tr>\n",
       "  </thead>\n",
       "  <tbody>\n",
       "    <tr>\n",
       "      <td>2017-01-01 07:25:00</td>\n",
       "      <td>0.0</td>\n",
       "      <td>0.0</td>\n",
       "      <td>0.0</td>\n",
       "      <td>0.0</td>\n",
       "    </tr>\n",
       "    <tr>\n",
       "      <td>2017-01-01 07:30:00</td>\n",
       "      <td>0.0</td>\n",
       "      <td>0.0</td>\n",
       "      <td>0.0</td>\n",
       "      <td>0.0</td>\n",
       "    </tr>\n",
       "    <tr>\n",
       "      <td>2017-01-01 07:35:00</td>\n",
       "      <td>0.0</td>\n",
       "      <td>0.0</td>\n",
       "      <td>0.0</td>\n",
       "      <td>0.0</td>\n",
       "    </tr>\n",
       "    <tr>\n",
       "      <td>2017-01-01 07:40:00</td>\n",
       "      <td>0.0</td>\n",
       "      <td>0.0</td>\n",
       "      <td>0.0</td>\n",
       "      <td>0.0</td>\n",
       "    </tr>\n",
       "    <tr>\n",
       "      <td>2017-01-01 07:45:00</td>\n",
       "      <td>0.0</td>\n",
       "      <td>0.0</td>\n",
       "      <td>0.0</td>\n",
       "      <td>0.0</td>\n",
       "    </tr>\n",
       "  </tbody>\n",
       "</table>\n",
       "</div>"
      ],
      "text/plain": [
       "                     ref_A  ref_A2  ref_B2  ref_E2\n",
       "date                                              \n",
       "2017-01-01 07:25:00    0.0     0.0     0.0     0.0\n",
       "2017-01-01 07:30:00    0.0     0.0     0.0     0.0\n",
       "2017-01-01 07:35:00    0.0     0.0     0.0     0.0\n",
       "2017-01-01 07:40:00    0.0     0.0     0.0     0.0\n",
       "2017-01-01 07:45:00    0.0     0.0     0.0     0.0"
      ]
     },
     "execution_count": 6,
     "metadata": {},
     "output_type": "execute_result"
    }
   ],
   "source": [
    "data.reference_cells.head()"
   ]
  },
  {
   "cell_type": "markdown",
   "metadata": {},
   "source": [
    "## Define the PV plant\n",
    "We define the PV plant geometry"
   ]
  },
  {
   "cell_type": "code",
   "execution_count": 7,
   "metadata": {},
   "outputs": [],
   "source": [
    "from vf2d import system_def, merge_data"
   ]
  },
  {
   "cell_type": "code",
   "execution_count": 8,
   "metadata": {},
   "outputs": [],
   "source": [
    "gps_data = {'Name':'Chambery', 'Latitude': 45.637001, 'Longitude': 5.881, 'Elevation': 235.0, 'TZ':+2}"
   ]
  },
  {
   "cell_type": "code",
   "execution_count": 9,
   "metadata": {},
   "outputs": [],
   "source": [
    "pvarray_parameters = system_def(n_pvrows=2,\n",
    "                                n_modules_vertically=2, #number of modules stacked together in each structure. Int.\n",
    "                                module_size = (1.01, 1.69), #(width, height) this is a portrait module.\n",
    "                                h_ground = 0.77, #height from the ground for the lower module, in meters.\n",
    "                                surface_tilt = 30, #tilt of the installation, in degrees.\n",
    "                                surface_azimuth = 180, #orientation of the axis, degrees from N, clockwise.\n",
    "                                axis_azimuth = 90, #Direction facing the modules, degrees from N, clockwise.\n",
    "                                albedo = 0.4, #Albedo from ground, can be constant or a value per timestep. Between 0 and 1.\n",
    "                                rtr_spacing = 9.4, #row2row distance, in meters.\n",
    "                                frontSurface = \"glass\", #glass or ARglass\n",
    "                                backSurface = \"glass\",\n",
    "                                back_measure_points = 10,\n",
    "                                row_type='first', #where to recover the data, 'first', 'interior' or 'last'\n",
    "                                gps_data=gps_data, # a dict containing 'Name', 'Latitute', 'Longitude', 'Elevation', 'TZ'\n",
    "                               )"
   ]
  },
  {
   "cell_type": "code",
   "execution_count": 10,
   "metadata": {},
   "outputs": [
    {
     "data": {
      "text/plain": [
       "{'pvfactors': {'n_pvrows': 2,\n",
       "  'pvrow_height': 1.6149999999999998,\n",
       "  'pvrow_width': 3.38,\n",
       "  'tracking': False,\n",
       "  'axis_azimuth': 90,\n",
       "  'surface_tilt': 30,\n",
       "  'surface_azimuth': 180,\n",
       "  'albedo': 0.4,\n",
       "  'gcr': 0.35957446808510635,\n",
       "  'rho_front_pvrow': 0.04336154977936508,\n",
       "  'rho_back_pvrow': 0.04336154977936508,\n",
       "  'cut': {0: {'front': 1, 'back': 10}, 1: {'front': 1, 'back': 1}}},\n",
       " 'bifacialvf': {'beta': 30,\n",
       "  'sazm': 180,\n",
       "  'C': 0.227810650887574,\n",
       "  'rtr': 2.7810650887573964,\n",
       "  'rowType': 'first',\n",
       "  'transFactor': 0.013,\n",
       "  'cellRows': 10,\n",
       "  'PVfrontSurface': 'glass',\n",
       "  'PVbackSurface': 'glass',\n",
       "  'albedo': 0.4,\n",
       "  'tracking': False},\n",
       " 'gps_data': {'Name': 'Chambery',\n",
       "  'Latitude': 45.637001,\n",
       "  'Longitude': 5.881,\n",
       "  'Elevation': 235.0,\n",
       "  'TZ': 2}}"
      ]
     },
     "execution_count": 10,
     "metadata": {},
     "output_type": "execute_result"
    }
   ],
   "source": [
    "pvarray_parameters"
   ]
  },
  {
   "cell_type": "markdown",
   "metadata": {},
   "source": [
    "## Merge Data\n",
    "We create a unified DataFrame with the data needed for the simulation"
   ]
  },
  {
   "cell_type": "code",
   "execution_count": 11,
   "metadata": {},
   "outputs": [],
   "source": [
    "merged_data = merge_data(data_small.meteo, \n",
    "                         data_small.sunpos, \n",
    "                         pvarray_parameters['pvfactors']['surface_tilt'], \n",
    "                         pvarray_parameters['pvfactors']['surface_azimuth'],\n",
    "                         pvarray_parameters['pvfactors']['albedo'])"
   ]
  },
  {
   "cell_type": "code",
   "execution_count": 12,
   "metadata": {},
   "outputs": [
    {
     "data": {
      "text/html": [
       "<div>\n",
       "<style scoped>\n",
       "    .dataframe tbody tr th:only-of-type {\n",
       "        vertical-align: middle;\n",
       "    }\n",
       "\n",
       "    .dataframe tbody tr th {\n",
       "        vertical-align: top;\n",
       "    }\n",
       "\n",
       "    .dataframe thead th {\n",
       "        text-align: right;\n",
       "    }\n",
       "</style>\n",
       "<table border=\"1\" class=\"dataframe\">\n",
       "  <thead>\n",
       "    <tr style=\"text-align: right;\">\n",
       "      <th></th>\n",
       "      <th>ghi</th>\n",
       "      <th>dni</th>\n",
       "      <th>dhi</th>\n",
       "      <th>zenith</th>\n",
       "      <th>azimuth</th>\n",
       "      <th>elevation</th>\n",
       "      <th>surface_tilt</th>\n",
       "      <th>surface_azimuth</th>\n",
       "      <th>albedo</th>\n",
       "    </tr>\n",
       "    <tr>\n",
       "      <th>date</th>\n",
       "      <th></th>\n",
       "      <th></th>\n",
       "      <th></th>\n",
       "      <th></th>\n",
       "      <th></th>\n",
       "      <th></th>\n",
       "      <th></th>\n",
       "      <th></th>\n",
       "      <th></th>\n",
       "    </tr>\n",
       "  </thead>\n",
       "  <tbody>\n",
       "    <tr>\n",
       "      <td>2017-07-18 04:10:00</td>\n",
       "      <td>0.00</td>\n",
       "      <td>0.0</td>\n",
       "      <td>0.00</td>\n",
       "      <td>91.000000</td>\n",
       "      <td>59.572309</td>\n",
       "      <td>0.328591</td>\n",
       "      <td>30</td>\n",
       "      <td>180</td>\n",
       "      <td>0.4</td>\n",
       "    </tr>\n",
       "    <tr>\n",
       "      <td>2017-07-18 04:15:00</td>\n",
       "      <td>0.00</td>\n",
       "      <td>0.0</td>\n",
       "      <td>0.00</td>\n",
       "      <td>91.000000</td>\n",
       "      <td>60.460925</td>\n",
       "      <td>1.085116</td>\n",
       "      <td>30</td>\n",
       "      <td>180</td>\n",
       "      <td>0.4</td>\n",
       "    </tr>\n",
       "    <tr>\n",
       "      <td>2017-07-18 04:20:00</td>\n",
       "      <td>10.73</td>\n",
       "      <td>0.0</td>\n",
       "      <td>10.73</td>\n",
       "      <td>88.151694</td>\n",
       "      <td>61.344053</td>\n",
       "      <td>1.848306</td>\n",
       "      <td>30</td>\n",
       "      <td>180</td>\n",
       "      <td>0.4</td>\n",
       "    </tr>\n",
       "    <tr>\n",
       "      <td>2017-07-18 04:25:00</td>\n",
       "      <td>13.31</td>\n",
       "      <td>0.0</td>\n",
       "      <td>13.32</td>\n",
       "      <td>87.382059</td>\n",
       "      <td>62.221953</td>\n",
       "      <td>2.617941</td>\n",
       "      <td>30</td>\n",
       "      <td>180</td>\n",
       "      <td>0.4</td>\n",
       "    </tr>\n",
       "    <tr>\n",
       "      <td>2017-07-18 04:30:00</td>\n",
       "      <td>16.51</td>\n",
       "      <td>0.0</td>\n",
       "      <td>16.51</td>\n",
       "      <td>86.606199</td>\n",
       "      <td>63.094892</td>\n",
       "      <td>3.393801</td>\n",
       "      <td>30</td>\n",
       "      <td>180</td>\n",
       "      <td>0.4</td>\n",
       "    </tr>\n",
       "  </tbody>\n",
       "</table>\n",
       "</div>"
      ],
      "text/plain": [
       "                       ghi  dni    dhi     zenith    azimuth  elevation  \\\n",
       "date                                                                      \n",
       "2017-07-18 04:10:00   0.00  0.0   0.00  91.000000  59.572309   0.328591   \n",
       "2017-07-18 04:15:00   0.00  0.0   0.00  91.000000  60.460925   1.085116   \n",
       "2017-07-18 04:20:00  10.73  0.0  10.73  88.151694  61.344053   1.848306   \n",
       "2017-07-18 04:25:00  13.31  0.0  13.32  87.382059  62.221953   2.617941   \n",
       "2017-07-18 04:30:00  16.51  0.0  16.51  86.606199  63.094892   3.393801   \n",
       "\n",
       "                     surface_tilt  surface_azimuth  albedo  \n",
       "date                                                        \n",
       "2017-07-18 04:10:00            30              180     0.4  \n",
       "2017-07-18 04:15:00            30              180     0.4  \n",
       "2017-07-18 04:20:00            30              180     0.4  \n",
       "2017-07-18 04:25:00            30              180     0.4  \n",
       "2017-07-18 04:30:00            30              180     0.4  "
      ]
     },
     "execution_count": 12,
     "metadata": {},
     "output_type": "execute_result"
    }
   ],
   "source": [
    "merged_data.head()"
   ]
  },
  {
   "cell_type": "markdown",
   "metadata": {},
   "source": [
    "## PVfactors"
   ]
  },
  {
   "cell_type": "code",
   "execution_count": 13,
   "metadata": {},
   "outputs": [],
   "source": [
    "from mypvfactors import *"
   ]
  },
  {
   "cell_type": "markdown",
   "metadata": {},
   "source": [
    "This is just a wrapper around the `run_parallel_engine` and the `run_full_mode` functions from pvfactors. Don't know why with pvfactors 1.2 the parallel mode is so slow."
   ]
  },
  {
   "cell_type": "code",
   "execution_count": 14,
   "metadata": {},
   "outputs": [
    {
     "name": "stderr",
     "output_type": "stream",
     "text": [
      "100%|██████████| 46/46 [00:01<00:00, 30.77it/s]\n",
      "100%|██████████| 45/45 [00:01<00:00, 28.41it/s]\n",
      "100%|██████████| 45/45 [00:02<00:00, 22.39it/s]\n",
      "100%|██████████| 45/45 [00:02<00:00, 21.54it/s]\n",
      "INFO:pvfactors.run:Parallel calculation elapsed time: 2.1532654762268066 sec\n"
     ]
    }
   ],
   "source": [
    "pvfactors_out = pvfactors_engine_run(merged_data, pvarray_parameters['pvfactors'], parallel=4)"
   ]
  },
  {
   "cell_type": "code",
   "execution_count": 15,
   "metadata": {},
   "outputs": [
    {
     "data": {
      "text/html": [
       "<div>\n",
       "<style scoped>\n",
       "    .dataframe tbody tr th:only-of-type {\n",
       "        vertical-align: middle;\n",
       "    }\n",
       "\n",
       "    .dataframe tbody tr th {\n",
       "        vertical-align: top;\n",
       "    }\n",
       "\n",
       "    .dataframe thead th {\n",
       "        text-align: right;\n",
       "    }\n",
       "</style>\n",
       "<table border=\"1\" class=\"dataframe\">\n",
       "  <thead>\n",
       "    <tr style=\"text-align: right;\">\n",
       "      <th></th>\n",
       "      <th>qinc_front</th>\n",
       "      <th>qinc_back_mean</th>\n",
       "      <th>qinc_back_0</th>\n",
       "      <th>qinc_back_1</th>\n",
       "      <th>qinc_back_2</th>\n",
       "      <th>qinc_back_3</th>\n",
       "      <th>qinc_back_4</th>\n",
       "      <th>qinc_back_5</th>\n",
       "      <th>qinc_back_6</th>\n",
       "      <th>qinc_back_7</th>\n",
       "      <th>qinc_back_8</th>\n",
       "      <th>qinc_back_9</th>\n",
       "    </tr>\n",
       "    <tr>\n",
       "      <th>date</th>\n",
       "      <th></th>\n",
       "      <th></th>\n",
       "      <th></th>\n",
       "      <th></th>\n",
       "      <th></th>\n",
       "      <th></th>\n",
       "      <th></th>\n",
       "      <th></th>\n",
       "      <th></th>\n",
       "      <th></th>\n",
       "      <th></th>\n",
       "      <th></th>\n",
       "    </tr>\n",
       "  </thead>\n",
       "  <tbody>\n",
       "    <tr>\n",
       "      <td>2017-07-18 04:10:00</td>\n",
       "      <td>0.000000</td>\n",
       "      <td>0.000000</td>\n",
       "      <td>0.000000</td>\n",
       "      <td>0.000000</td>\n",
       "      <td>0.000000</td>\n",
       "      <td>0.000000</td>\n",
       "      <td>0.000000</td>\n",
       "      <td>0.000000</td>\n",
       "      <td>0.000000</td>\n",
       "      <td>0.000000</td>\n",
       "      <td>0.000000</td>\n",
       "      <td>0.000000</td>\n",
       "    </tr>\n",
       "    <tr>\n",
       "      <td>2017-07-18 04:15:00</td>\n",
       "      <td>0.000000</td>\n",
       "      <td>0.000000</td>\n",
       "      <td>0.000000</td>\n",
       "      <td>0.000000</td>\n",
       "      <td>0.000000</td>\n",
       "      <td>0.000000</td>\n",
       "      <td>0.000000</td>\n",
       "      <td>0.000000</td>\n",
       "      <td>0.000000</td>\n",
       "      <td>0.000000</td>\n",
       "      <td>0.000000</td>\n",
       "      <td>0.000000</td>\n",
       "    </tr>\n",
       "    <tr>\n",
       "      <td>2017-07-18 04:20:00</td>\n",
       "      <td>9.833055</td>\n",
       "      <td>4.623675</td>\n",
       "      <td>4.637035</td>\n",
       "      <td>4.633997</td>\n",
       "      <td>4.630985</td>\n",
       "      <td>4.628000</td>\n",
       "      <td>4.625040</td>\n",
       "      <td>4.622106</td>\n",
       "      <td>4.619198</td>\n",
       "      <td>4.616315</td>\n",
       "      <td>4.613456</td>\n",
       "      <td>4.610622</td>\n",
       "    </tr>\n",
       "    <tr>\n",
       "      <td>2017-07-18 04:25:00</td>\n",
       "      <td>12.209506</td>\n",
       "      <td>5.739735</td>\n",
       "      <td>5.756319</td>\n",
       "      <td>5.752547</td>\n",
       "      <td>5.748809</td>\n",
       "      <td>5.745103</td>\n",
       "      <td>5.741429</td>\n",
       "      <td>5.737787</td>\n",
       "      <td>5.734176</td>\n",
       "      <td>5.730597</td>\n",
       "      <td>5.727049</td>\n",
       "      <td>5.723531</td>\n",
       "    </tr>\n",
       "    <tr>\n",
       "      <td>2017-07-18 04:30:00</td>\n",
       "      <td>15.135242</td>\n",
       "      <td>7.131558</td>\n",
       "      <td>7.152102</td>\n",
       "      <td>7.147430</td>\n",
       "      <td>7.142799</td>\n",
       "      <td>7.138208</td>\n",
       "      <td>7.133657</td>\n",
       "      <td>7.129146</td>\n",
       "      <td>7.124673</td>\n",
       "      <td>7.120239</td>\n",
       "      <td>7.115844</td>\n",
       "      <td>7.111486</td>\n",
       "    </tr>\n",
       "  </tbody>\n",
       "</table>\n",
       "</div>"
      ],
      "text/plain": [
       "                     qinc_front  qinc_back_mean  qinc_back_0  qinc_back_1  \\\n",
       "date                                                                        \n",
       "2017-07-18 04:10:00    0.000000        0.000000     0.000000     0.000000   \n",
       "2017-07-18 04:15:00    0.000000        0.000000     0.000000     0.000000   \n",
       "2017-07-18 04:20:00    9.833055        4.623675     4.637035     4.633997   \n",
       "2017-07-18 04:25:00   12.209506        5.739735     5.756319     5.752547   \n",
       "2017-07-18 04:30:00   15.135242        7.131558     7.152102     7.147430   \n",
       "\n",
       "                     qinc_back_2  qinc_back_3  qinc_back_4  qinc_back_5  \\\n",
       "date                                                                      \n",
       "2017-07-18 04:10:00     0.000000     0.000000     0.000000     0.000000   \n",
       "2017-07-18 04:15:00     0.000000     0.000000     0.000000     0.000000   \n",
       "2017-07-18 04:20:00     4.630985     4.628000     4.625040     4.622106   \n",
       "2017-07-18 04:25:00     5.748809     5.745103     5.741429     5.737787   \n",
       "2017-07-18 04:30:00     7.142799     7.138208     7.133657     7.129146   \n",
       "\n",
       "                     qinc_back_6  qinc_back_7  qinc_back_8  qinc_back_9  \n",
       "date                                                                     \n",
       "2017-07-18 04:10:00     0.000000     0.000000     0.000000     0.000000  \n",
       "2017-07-18 04:15:00     0.000000     0.000000     0.000000     0.000000  \n",
       "2017-07-18 04:20:00     4.619198     4.616315     4.613456     4.610622  \n",
       "2017-07-18 04:25:00     5.734176     5.730597     5.727049     5.723531  \n",
       "2017-07-18 04:30:00     7.124673     7.120239     7.115844     7.111486  "
      ]
     },
     "execution_count": 15,
     "metadata": {},
     "output_type": "execute_result"
    }
   ],
   "source": [
    "pvfactors_out.head()"
   ]
  },
  {
   "cell_type": "markdown",
   "metadata": {},
   "source": [
    "## BifacialVF"
   ]
  },
  {
   "cell_type": "code",
   "execution_count": 16,
   "metadata": {},
   "outputs": [],
   "source": [
    "from mybifacialvf import *"
   ]
  },
  {
   "cell_type": "markdown",
   "metadata": {},
   "source": [
    "The `bifacialvf_engine_run` method is just a wrapper around the '`simulate` method. It has a nice formater that will transform the output DataFrame in the same format as the one produced by pvfactors to be diectly comparable."
   ]
  },
  {
   "cell_type": "code",
   "execution_count": 17,
   "metadata": {},
   "outputs": [
    {
     "name": "stderr",
     "output_type": "stream",
     "text": [
      "  0%|          | 0/181 [00:00<?, ?it/s]/home/tc256760/anaconda3/envs/bifacial_model_validation/lib/python3.7/site-packages/bifacialvf/vf.py:640: RuntimeWarning: divide by zero encountered in double_scalars\n",
      "  projectedX1 = PcellX - np.float64(PcellY) / math.tan(startElvDown);      # Projection of ElvDown to ground in -x direction\n",
      "  8%|▊         | 14/181 [00:00<00:01, 135.92it/s]"
     ]
    },
    {
     "name": "stdout",
     "output_type": "stream",
     "text": [
      " \n",
      "********* \n",
      "Running Simulation for TMY3:  Chambery\n",
      "Location:   Chambery\n",
      "Lat:  45.637001  Long:  5.881  Tz  2\n",
      "Parameters: beta:  30   Sazm:  180   Height:  0.227810650887574   rtr separation:  2.7810650887573964   Row type:  first   Albedo:  0.4\n",
      "Saving into output.csv\n",
      " \n",
      " \n"
     ]
    },
    {
     "name": "stderr",
     "output_type": "stream",
     "text": [
      "100%|██████████| 181/181 [00:01<00:00, 124.24it/s]"
     ]
    },
    {
     "name": "stdout",
     "output_type": "stream",
     "text": [
      "Finished\n"
     ]
    },
    {
     "name": "stderr",
     "output_type": "stream",
     "text": [
      "\n"
     ]
    }
   ],
   "source": [
    "bifacialvf_out = bifacialvf_engine_run(merged_data,  pvarray_parameters['bifacialvf'], gps_data)"
   ]
  },
  {
   "cell_type": "code",
   "execution_count": 18,
   "metadata": {},
   "outputs": [
    {
     "data": {
      "text/html": [
       "<div>\n",
       "<style scoped>\n",
       "    .dataframe tbody tr th:only-of-type {\n",
       "        vertical-align: middle;\n",
       "    }\n",
       "\n",
       "    .dataframe tbody tr th {\n",
       "        vertical-align: top;\n",
       "    }\n",
       "\n",
       "    .dataframe thead th {\n",
       "        text-align: right;\n",
       "    }\n",
       "</style>\n",
       "<table border=\"1\" class=\"dataframe\">\n",
       "  <thead>\n",
       "    <tr style=\"text-align: right;\">\n",
       "      <th></th>\n",
       "      <th>qinc_front</th>\n",
       "      <th>qinc_back_mean</th>\n",
       "      <th>qinc_back_0</th>\n",
       "      <th>qinc_back_1</th>\n",
       "      <th>qinc_back_2</th>\n",
       "      <th>qinc_back_3</th>\n",
       "      <th>qinc_back_4</th>\n",
       "      <th>qinc_back_5</th>\n",
       "      <th>qinc_back_6</th>\n",
       "      <th>qinc_back_7</th>\n",
       "      <th>qinc_back_8</th>\n",
       "      <th>qinc_back_9</th>\n",
       "    </tr>\n",
       "    <tr>\n",
       "      <th>date</th>\n",
       "      <th></th>\n",
       "      <th></th>\n",
       "      <th></th>\n",
       "      <th></th>\n",
       "      <th></th>\n",
       "      <th></th>\n",
       "      <th></th>\n",
       "      <th></th>\n",
       "      <th></th>\n",
       "      <th></th>\n",
       "      <th></th>\n",
       "      <th></th>\n",
       "    </tr>\n",
       "  </thead>\n",
       "  <tbody>\n",
       "    <tr>\n",
       "      <td>2017-07-18 04:20:00</td>\n",
       "      <td>9.815920</td>\n",
       "      <td>2.268114</td>\n",
       "      <td>2.749797</td>\n",
       "      <td>2.659666</td>\n",
       "      <td>2.522485</td>\n",
       "      <td>2.379542</td>\n",
       "      <td>2.237317</td>\n",
       "      <td>2.106785</td>\n",
       "      <td>1.995712</td>\n",
       "      <td>1.960718</td>\n",
       "      <td>1.969415</td>\n",
       "      <td>2.099705</td>\n",
       "    </tr>\n",
       "    <tr>\n",
       "      <td>2017-07-18 04:25:00</td>\n",
       "      <td>11.641471</td>\n",
       "      <td>2.674164</td>\n",
       "      <td>3.054947</td>\n",
       "      <td>2.943875</td>\n",
       "      <td>2.851112</td>\n",
       "      <td>2.748019</td>\n",
       "      <td>2.642287</td>\n",
       "      <td>2.548221</td>\n",
       "      <td>2.474729</td>\n",
       "      <td>2.431608</td>\n",
       "      <td>2.442500</td>\n",
       "      <td>2.604337</td>\n",
       "    </tr>\n",
       "    <tr>\n",
       "      <td>2017-07-18 04:30:00</td>\n",
       "      <td>14.435639</td>\n",
       "      <td>3.316199</td>\n",
       "      <td>3.790636</td>\n",
       "      <td>3.652954</td>\n",
       "      <td>3.537097</td>\n",
       "      <td>3.408473</td>\n",
       "      <td>3.276616</td>\n",
       "      <td>3.159253</td>\n",
       "      <td>3.067431</td>\n",
       "      <td>3.013979</td>\n",
       "      <td>3.027479</td>\n",
       "      <td>3.228073</td>\n",
       "    </tr>\n",
       "    <tr>\n",
       "      <td>2017-07-18 04:35:00</td>\n",
       "      <td>17.239073</td>\n",
       "      <td>3.960379</td>\n",
       "      <td>4.528964</td>\n",
       "      <td>4.364589</td>\n",
       "      <td>4.225493</td>\n",
       "      <td>4.071188</td>\n",
       "      <td>3.913060</td>\n",
       "      <td>3.772263</td>\n",
       "      <td>3.661994</td>\n",
       "      <td>3.598178</td>\n",
       "      <td>3.614294</td>\n",
       "      <td>3.853767</td>\n",
       "    </tr>\n",
       "    <tr>\n",
       "      <td>2017-07-18 04:40:00</td>\n",
       "      <td>19.759487</td>\n",
       "      <td>4.553476</td>\n",
       "      <td>5.205977</td>\n",
       "      <td>5.017644</td>\n",
       "      <td>4.857908</td>\n",
       "      <td>4.680755</td>\n",
       "      <td>4.499212</td>\n",
       "      <td>4.337567</td>\n",
       "      <td>4.210903</td>\n",
       "      <td>4.137786</td>\n",
       "      <td>4.156275</td>\n",
       "      <td>4.430734</td>\n",
       "    </tr>\n",
       "  </tbody>\n",
       "</table>\n",
       "</div>"
      ],
      "text/plain": [
       "                     qinc_front  qinc_back_mean  qinc_back_0  qinc_back_1  \\\n",
       "date                                                                        \n",
       "2017-07-18 04:20:00    9.815920        2.268114     2.749797     2.659666   \n",
       "2017-07-18 04:25:00   11.641471        2.674164     3.054947     2.943875   \n",
       "2017-07-18 04:30:00   14.435639        3.316199     3.790636     3.652954   \n",
       "2017-07-18 04:35:00   17.239073        3.960379     4.528964     4.364589   \n",
       "2017-07-18 04:40:00   19.759487        4.553476     5.205977     5.017644   \n",
       "\n",
       "                     qinc_back_2  qinc_back_3  qinc_back_4  qinc_back_5  \\\n",
       "date                                                                      \n",
       "2017-07-18 04:20:00     2.522485     2.379542     2.237317     2.106785   \n",
       "2017-07-18 04:25:00     2.851112     2.748019     2.642287     2.548221   \n",
       "2017-07-18 04:30:00     3.537097     3.408473     3.276616     3.159253   \n",
       "2017-07-18 04:35:00     4.225493     4.071188     3.913060     3.772263   \n",
       "2017-07-18 04:40:00     4.857908     4.680755     4.499212     4.337567   \n",
       "\n",
       "                     qinc_back_6  qinc_back_7  qinc_back_8  qinc_back_9  \n",
       "date                                                                     \n",
       "2017-07-18 04:20:00     1.995712     1.960718     1.969415     2.099705  \n",
       "2017-07-18 04:25:00     2.474729     2.431608     2.442500     2.604337  \n",
       "2017-07-18 04:30:00     3.067431     3.013979     3.027479     3.228073  \n",
       "2017-07-18 04:35:00     3.661994     3.598178     3.614294     3.853767  \n",
       "2017-07-18 04:40:00     4.210903     4.137786     4.156275     4.430734  "
      ]
     },
     "execution_count": 18,
     "metadata": {},
     "output_type": "execute_result"
    }
   ],
   "source": [
    "bifacialvf_out.head()"
   ]
  },
  {
   "cell_type": "markdown",
   "metadata": {},
   "source": [
    "## Refactor\n",
    "We can refactor the whole pipeline in one single run_simulation function that we will extend to use bifacialvf"
   ]
  },
  {
   "cell_type": "code",
   "execution_count": 19,
   "metadata": {},
   "outputs": [],
   "source": [
    "def run_simulation(data, pvarray_parameters, engine='pvfactors', **kwargs):\n",
    "    merged_data = merge_data(data.meteo, \n",
    "                             data.sunpos,                          \n",
    "                             pvarray_parameters['pvfactors']['surface_tilt'], \n",
    "                             pvarray_parameters['pvfactors']['surface_azimuth'],\n",
    "                             pvarray_parameters['pvfactors']['albedo'])\n",
    "    if engine == 'pvfactors':   \n",
    "        res = pvfactors_engine_run(merged_data, pvarray_parameters['pvfactors'],**kwargs)\n",
    "    if engine == 'bifacialvf':\n",
    "        res = bifacialvf_engine_run(merged_data, pvarray_parameters['bifacialvf'], gps_data=pvarray_parameters['gps_data'],**kwargs)\n",
    "    return res"
   ]
  },
  {
   "cell_type": "code",
   "execution_count": 20,
   "metadata": {},
   "outputs": [
    {
     "name": "stderr",
     "output_type": "stream",
     "text": [
      "100%|██████████| 45/45 [00:01<00:00, 26.85it/s]\n",
      "100%|██████████| 46/46 [00:02<00:00, 22.07it/s]\n",
      "100%|██████████| 45/45 [00:02<00:00, 21.19it/s]\n",
      "100%|██████████| 45/45 [00:02<00:00, 20.40it/s]\n",
      "INFO:pvfactors.run:Parallel calculation elapsed time: 2.2797365188598633 sec\n"
     ]
    }
   ],
   "source": [
    "pvfactors_out = run_simulation(data_small, pvarray_parameters, engine='pvfactors', parallel=4)"
   ]
  },
  {
   "cell_type": "code",
   "execution_count": 21,
   "metadata": {},
   "outputs": [
    {
     "name": "stderr",
     "output_type": "stream",
     "text": [
      "  8%|▊         | 14/181 [00:00<00:01, 131.22it/s]"
     ]
    },
    {
     "name": "stdout",
     "output_type": "stream",
     "text": [
      " \n",
      "********* \n",
      "Running Simulation for TMY3:  Chambery\n",
      "Location:   Chambery\n",
      "Lat:  45.637001  Long:  5.881  Tz  2\n",
      "Parameters: beta:  30   Sazm:  180   Height:  0.227810650887574   rtr separation:  2.7810650887573964   Row type:  first   Albedo:  0.4\n",
      "Saving into output.csv\n",
      " \n",
      " \n"
     ]
    },
    {
     "name": "stderr",
     "output_type": "stream",
     "text": [
      "100%|██████████| 181/181 [00:01<00:00, 118.74it/s]"
     ]
    },
    {
     "name": "stdout",
     "output_type": "stream",
     "text": [
      "Finished\n"
     ]
    },
    {
     "name": "stderr",
     "output_type": "stream",
     "text": [
      "\n"
     ]
    }
   ],
   "source": [
    "bifacialvf_out = run_simulation(data_small, pvarray_parameters, engine='bifacialvf')"
   ]
  },
  {
   "cell_type": "markdown",
   "metadata": {},
   "source": [
    "## Comparison of pvfactors and BifacialVF\n",
    "As we can see, for the same measurement point (the 3rd point from the top) the outputs of both models are very different."
   ]
  },
  {
   "cell_type": "code",
   "execution_count": 22,
   "metadata": {},
   "outputs": [
    {
     "data": {
      "text/plain": [
       "<matplotlib.legend.Legend at 0x7f7683e5ca20>"
      ]
     },
     "execution_count": 22,
     "metadata": {},
     "output_type": "execute_result"
    },
    {
     "data": {
      "image/png": "[encoded data removed]",
      "text/plain": [
       "<Figure size 1080x360 with 1 Axes>"
      ]
     },
     "metadata": {
      "needs_background": "light"
     },
     "output_type": "display_data"
    }
   ],
   "source": [
    "pvfactors_out[day].qinc_back_3.plot(figsize=(15,5))\n",
    "bifacialvf_out[day].qinc_back_3.plot()\n",
    "data.reference_cells[day].ref_B2.plot(color='red', dashes=(6,2))\n",
    "plt.legend(['pvfactors', 'bifacialvf', 'reference_cell'])"
   ]
  },
  {
   "cell_type": "code",
   "execution_count": null,
   "metadata": {},
   "outputs": [],
   "source": []
  }
 ],
 "metadata": {
  "kernelspec": {
   "display_name": "Python 3",
   "language": "python",
   "name": "python3"
  },
  "language_info": {
   "codemirror_mode": {
    "name": "ipython",
    "version": 3
   },
   "file_extension": ".py",
   "mimetype": "text/x-python",
   "name": "python",
   "nbconvert_exporter": "python",
   "pygments_lexer": "ipython3",
   "version": "3.7.3"
  }
 },
 "nbformat": 4,
 "nbformat_minor": 4
}
